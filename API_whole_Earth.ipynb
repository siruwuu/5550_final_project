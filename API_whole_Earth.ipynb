{
 "cells": [
  {
   "cell_type": "raw",
   "metadata": {
    "vscode": {
     "languageId": "raw"
    }
   },
   "source": [
    "---\n",
    "title: \"5550 API Parsing Whole Earth\"\n",
    "author: \"Siru Wu\"\n",
    "format: \n",
    "  html: \n",
    "    embed-resources: true\n",
    "---"
   ]
  },
  {
   "cell_type": "code",
   "execution_count": 1,
   "metadata": {},
   "outputs": [
    {
     "name": "stderr",
     "output_type": "stream",
     "text": [
      "2024-11-24 18:36:16,168 INFO [2024-09-28T00:00:00] **Welcome to the New Climate Data Store (CDS)!** This new system is in its early days of full operations and still undergoing enhancements and fine tuning. Some disruptions are to be expected. Your \n",
      "[feedback](https://jira.ecmwf.int/plugins/servlet/desk/portal/1/create/202) is key to improve the user experience on the new CDS for the benefit of everyone. Thank you.\n",
      "2024-11-24 18:36:16,169 INFO [2024-09-26T00:00:00] Watch our [Forum](https://forum.ecmwf.int/) for Announcements, news and other discussed topics.\n",
      "2024-11-24 18:36:16,170 INFO [2024-09-16T00:00:00] Remember that you need to have an ECMWF account to use the new CDS. **Your old CDS credentials will not work in new CDS!**\n",
      "2024-11-24 18:36:16,170 WARNING [2024-06-16T00:00:00] CDS API syntax is changed and some keys or parameter names may have also changed. To avoid requests failing, please use the \"Show API request code\" tool on the dataset Download Form to check you are using the correct syntax for your API request.\n"
     ]
    },
    {
     "name": "stdout",
     "output_type": "stream",
     "text": [
      "File for month 1 already exists, skipping download...\n",
      "File for month 2 already exists, skipping download...\n",
      "File for month 3 already exists, skipping download...\n",
      "File for month 4 already exists, skipping download...\n",
      "File for month 5 already exists, skipping download...\n",
      "File for month 6 already exists, skipping download...\n",
      "File for month 7 already exists, skipping download...\n",
      "File for month 8 already exists, skipping download...\n",
      "File for month 9 already exists, skipping download...\n",
      "File for month 10 already exists, skipping download...\n",
      "File for month 11 already exists, skipping download...\n"
     ]
    }
   ],
   "source": [
    "import cdsapi\n",
    "import os\n",
    "\n",
    "# Creating a CDS API Client\n",
    "client = cdsapi.Client()\n",
    "\n",
    "# Define the dataset name\n",
    "dataset = \"reanalysis-era5-land\"\n",
    "\n",
    "# Define the variables to download\n",
    "variables = [\n",
    "    \"total_precipitation\",\n",
    "    \"total_evaporation\",\n",
    "    \"runoff\",\n",
    "    \"2m_temperature\",\n",
    "    \"10m_u_component_of_wind\",\n",
    "    \"10m_v_component_of_wind\",\n",
    "    \"surface_pressure\",\n",
    "]\n",
    "\n",
    "# Define the time resolution to be every 6 hours\n",
    "time_intervals = [\n",
    "    \"00:00\", \"06:00\", \"12:00\", \"18:00\"\n",
    "]\n",
    "\n",
    "# Set the data storage directory\n",
    "data_dir = \"/mnt/d/Parsing_data\"\n",
    "\n",
    "# Make sure the target directory exists\n",
    "os.makedirs(data_dir, exist_ok=True)\n",
    "\n",
    "# Download full year data, split by month\n",
    "for month in range(1, 12):  # From Jan to Dec\n",
    "    # Generate output file name\n",
    "    output_filename = os.path.join(data_dir, f\"era5_2024_month_{month:02d}.nc\")\n",
    "    \n",
    "    # Check if the file already exists\n",
    "    if os.path.exists(output_filename):\n",
    "        print(f\"File for month {month} already exists, skipping download...\")\n",
    "        continue\n",
    "\n",
    "    # Constructing request parameters\n",
    "    request = {\n",
    "        \"variable\": variables,\n",
    "        \"year\": \"2024\",\n",
    "        \"month\": f\"{month:02d}\",  # Format as a two-digit month\n",
    "        \"day\": [\n",
    "            \"01\", \"02\", \"03\", \"04\", \"05\", \"06\", \"07\", \"08\", \"09\", \"10\",\n",
    "            \"11\", \"12\", \"13\", \"14\", \"15\", \"16\", \"17\", \"18\", \"19\", \"20\",\n",
    "            \"21\", \"22\", \"23\", \"24\", \"25\", \"26\", \"27\", \"28\", \"29\", \"30\", \"31\"\n",
    "        ],\n",
    "        \"time\": time_intervals,\n",
    "        \"format\": \"netcdf\",  # Data format is NetCDF\n",
    "    }\n",
    "\n",
    "    # Data Download\n",
    "    print(f\"Downloading data for month {month}...\")\n",
    "    client.retrieve(dataset, request, output_filename)\n",
    "    print(f\"Data for month {month} has been saved as {output_filename}\")\n"
   ]
  },
  {
   "cell_type": "code",
   "execution_count": 14,
   "metadata": {},
   "outputs": [
    {
     "name": "stdout",
     "output_type": "stream",
     "text": [
      "Files in /mnt/d/Parsing_data: ['era5_2024_month_01.nc', 'era5_2024_month_02.nc', 'era5_2024_month_03.nc', 'era5_2024_month_04.nc', 'era5_2024_month_05.nc']\n"
     ]
    }
   ],
   "source": [
    "# # 检查目标目录\n",
    "# migrated_files = os.listdir(target_dir)\n",
    "# # print(f\"Files in {target_dir}: {migrated_files}\")"
   ]
  },
  {
   "cell_type": "code",
   "execution_count": 4,
   "metadata": {},
   "outputs": [
    {
     "name": "stdout",
     "output_type": "stream",
     "text": [
      "Longitude values: [ 0.   0.1  0.2 ... -0.3 -0.2 -0.1]\n"
     ]
    }
   ],
   "source": [
    "print(f\"Longitude values: {ds.longitude.values}\")\n"
   ]
  },
  {
   "cell_type": "code",
   "execution_count": 5,
   "metadata": {},
   "outputs": [
    {
     "name": "stdout",
     "output_type": "stream",
     "text": [
      "Original longitude range: 0.0 to 359.9\n",
      "Converted longitude range: -179.90000000000595 to 179.9999999999941\n"
     ]
    },
    {
     "ename": "PermissionError",
     "evalue": "[Errno 13] Permission denied: '/mnt/d/Reduced_data/era5_2024_month_01_north_america.nc'",
     "output_type": "error",
     "traceback": [
      "\u001b[0;31m---------------------------------------------------------------------------\u001b[0m",
      "\u001b[0;31mKeyError\u001b[0m                                  Traceback (most recent call last)",
      "File \u001b[0;32m~/5550_final_project/.venv/lib/python3.12/site-packages/xarray/backends/file_manager.py:211\u001b[0m, in \u001b[0;36mCachingFileManager._acquire_with_cache_info\u001b[0;34m(self, needs_lock)\u001b[0m\n\u001b[1;32m    210\u001b[0m \u001b[38;5;28;01mtry\u001b[39;00m:\n\u001b[0;32m--> 211\u001b[0m     file \u001b[38;5;241m=\u001b[39m \u001b[38;5;28;43mself\u001b[39;49m\u001b[38;5;241;43m.\u001b[39;49m\u001b[43m_cache\u001b[49m\u001b[43m[\u001b[49m\u001b[38;5;28;43mself\u001b[39;49m\u001b[38;5;241;43m.\u001b[39;49m\u001b[43m_key\u001b[49m\u001b[43m]\u001b[49m\n\u001b[1;32m    212\u001b[0m \u001b[38;5;28;01mexcept\u001b[39;00m \u001b[38;5;167;01mKeyError\u001b[39;00m:\n",
      "File \u001b[0;32m~/5550_final_project/.venv/lib/python3.12/site-packages/xarray/backends/lru_cache.py:56\u001b[0m, in \u001b[0;36mLRUCache.__getitem__\u001b[0;34m(self, key)\u001b[0m\n\u001b[1;32m     55\u001b[0m \u001b[38;5;28;01mwith\u001b[39;00m \u001b[38;5;28mself\u001b[39m\u001b[38;5;241m.\u001b[39m_lock:\n\u001b[0;32m---> 56\u001b[0m     value \u001b[38;5;241m=\u001b[39m \u001b[38;5;28;43mself\u001b[39;49m\u001b[38;5;241;43m.\u001b[39;49m\u001b[43m_cache\u001b[49m\u001b[43m[\u001b[49m\u001b[43mkey\u001b[49m\u001b[43m]\u001b[49m\n\u001b[1;32m     57\u001b[0m     \u001b[38;5;28mself\u001b[39m\u001b[38;5;241m.\u001b[39m_cache\u001b[38;5;241m.\u001b[39mmove_to_end(key)\n",
      "\u001b[0;31mKeyError\u001b[0m: [<class 'netCDF4._netCDF4.Dataset'>, ('/mnt/d/Reduced_data/era5_2024_month_01_north_america.nc',), 'a', (('clobber', True), ('diskless', False), ('format', 'NETCDF4'), ('persist', False)), '244f89d5-5ef6-4066-9060-f25653c5f0dd']",
      "\nDuring handling of the above exception, another exception occurred:\n",
      "\u001b[0;31mPermissionError\u001b[0m                           Traceback (most recent call last)",
      "Cell \u001b[0;32mIn[5], line 45\u001b[0m\n\u001b[1;32m     43\u001b[0m \u001b[38;5;66;03m# 保存提取后的数据\u001b[39;00m\n\u001b[1;32m     44\u001b[0m output_path \u001b[38;5;241m=\u001b[39m \u001b[38;5;124mf\u001b[39m\u001b[38;5;124m\"\u001b[39m\u001b[38;5;132;01m{\u001b[39;00moutput_directory\u001b[38;5;132;01m}\u001b[39;00m\u001b[38;5;124m/era5_2024_month_\u001b[39m\u001b[38;5;132;01m{\u001b[39;00mmonth\u001b[38;5;132;01m:\u001b[39;00m\u001b[38;5;124m02d\u001b[39m\u001b[38;5;132;01m}\u001b[39;00m\u001b[38;5;124m_north_america.nc\u001b[39m\u001b[38;5;124m\"\u001b[39m\n\u001b[0;32m---> 45\u001b[0m \u001b[43msubset_ds\u001b[49m\u001b[38;5;241;43m.\u001b[39;49m\u001b[43mto_netcdf\u001b[49m\u001b[43m(\u001b[49m\u001b[43moutput_path\u001b[49m\u001b[43m)\u001b[49m\n\u001b[1;32m     46\u001b[0m \u001b[38;5;28mprint\u001b[39m(\u001b[38;5;124mf\u001b[39m\u001b[38;5;124m\"\u001b[39m\u001b[38;5;124mSaved North America subset for month \u001b[39m\u001b[38;5;132;01m{\u001b[39;00mmonth\u001b[38;5;132;01m}\u001b[39;00m\u001b[38;5;124m to \u001b[39m\u001b[38;5;132;01m{\u001b[39;00moutput_path\u001b[38;5;132;01m}\u001b[39;00m\u001b[38;5;124m\"\u001b[39m)\n",
      "File \u001b[0;32m~/5550_final_project/.venv/lib/python3.12/site-packages/xarray/core/dataset.py:2346\u001b[0m, in \u001b[0;36mDataset.to_netcdf\u001b[0;34m(self, path, mode, format, group, engine, encoding, unlimited_dims, compute, invalid_netcdf, auto_complex)\u001b[0m\n\u001b[1;32m   2343\u001b[0m     encoding \u001b[38;5;241m=\u001b[39m {}\n\u001b[1;32m   2344\u001b[0m \u001b[38;5;28;01mfrom\u001b[39;00m \u001b[38;5;21;01mxarray\u001b[39;00m\u001b[38;5;21;01m.\u001b[39;00m\u001b[38;5;21;01mbackends\u001b[39;00m\u001b[38;5;21;01m.\u001b[39;00m\u001b[38;5;21;01mapi\u001b[39;00m \u001b[38;5;28;01mimport\u001b[39;00m to_netcdf\n\u001b[0;32m-> 2346\u001b[0m \u001b[38;5;28;01mreturn\u001b[39;00m \u001b[43mto_netcdf\u001b[49m\u001b[43m(\u001b[49m\u001b[43m  \u001b[49m\u001b[38;5;66;43;03m# type: ignore[return-value]  # mypy cannot resolve the overloads:(\u001b[39;49;00m\n\u001b[1;32m   2347\u001b[0m \u001b[43m    \u001b[49m\u001b[38;5;28;43mself\u001b[39;49m\u001b[43m,\u001b[49m\n\u001b[1;32m   2348\u001b[0m \u001b[43m    \u001b[49m\u001b[43mpath\u001b[49m\u001b[43m,\u001b[49m\n\u001b[1;32m   2349\u001b[0m \u001b[43m    \u001b[49m\u001b[43mmode\u001b[49m\u001b[38;5;241;43m=\u001b[39;49m\u001b[43mmode\u001b[49m\u001b[43m,\u001b[49m\n\u001b[1;32m   2350\u001b[0m \u001b[43m    \u001b[49m\u001b[38;5;28;43mformat\u001b[39;49m\u001b[38;5;241;43m=\u001b[39;49m\u001b[38;5;28;43mformat\u001b[39;49m\u001b[43m,\u001b[49m\n\u001b[1;32m   2351\u001b[0m \u001b[43m    \u001b[49m\u001b[43mgroup\u001b[49m\u001b[38;5;241;43m=\u001b[39;49m\u001b[43mgroup\u001b[49m\u001b[43m,\u001b[49m\n\u001b[1;32m   2352\u001b[0m \u001b[43m    \u001b[49m\u001b[43mengine\u001b[49m\u001b[38;5;241;43m=\u001b[39;49m\u001b[43mengine\u001b[49m\u001b[43m,\u001b[49m\n\u001b[1;32m   2353\u001b[0m \u001b[43m    \u001b[49m\u001b[43mencoding\u001b[49m\u001b[38;5;241;43m=\u001b[39;49m\u001b[43mencoding\u001b[49m\u001b[43m,\u001b[49m\n\u001b[1;32m   2354\u001b[0m \u001b[43m    \u001b[49m\u001b[43munlimited_dims\u001b[49m\u001b[38;5;241;43m=\u001b[39;49m\u001b[43munlimited_dims\u001b[49m\u001b[43m,\u001b[49m\n\u001b[1;32m   2355\u001b[0m \u001b[43m    \u001b[49m\u001b[43mcompute\u001b[49m\u001b[38;5;241;43m=\u001b[39;49m\u001b[43mcompute\u001b[49m\u001b[43m,\u001b[49m\n\u001b[1;32m   2356\u001b[0m \u001b[43m    \u001b[49m\u001b[43mmultifile\u001b[49m\u001b[38;5;241;43m=\u001b[39;49m\u001b[38;5;28;43;01mFalse\u001b[39;49;00m\u001b[43m,\u001b[49m\n\u001b[1;32m   2357\u001b[0m \u001b[43m    \u001b[49m\u001b[43minvalid_netcdf\u001b[49m\u001b[38;5;241;43m=\u001b[39;49m\u001b[43minvalid_netcdf\u001b[49m\u001b[43m,\u001b[49m\n\u001b[1;32m   2358\u001b[0m \u001b[43m    \u001b[49m\u001b[43mauto_complex\u001b[49m\u001b[38;5;241;43m=\u001b[39;49m\u001b[43mauto_complex\u001b[49m\u001b[43m,\u001b[49m\n\u001b[1;32m   2359\u001b[0m \u001b[43m\u001b[49m\u001b[43m)\u001b[49m\n",
      "File \u001b[0;32m~/5550_final_project/.venv/lib/python3.12/site-packages/xarray/backends/api.py:1855\u001b[0m, in \u001b[0;36mto_netcdf\u001b[0;34m(dataset, path_or_file, mode, format, group, engine, encoding, unlimited_dims, compute, multifile, invalid_netcdf, auto_complex)\u001b[0m\n\u001b[1;32m   1852\u001b[0m \u001b[38;5;28;01mif\u001b[39;00m auto_complex \u001b[38;5;129;01mis\u001b[39;00m \u001b[38;5;129;01mnot\u001b[39;00m \u001b[38;5;28;01mNone\u001b[39;00m:\n\u001b[1;32m   1853\u001b[0m     kwargs[\u001b[38;5;124m\"\u001b[39m\u001b[38;5;124mauto_complex\u001b[39m\u001b[38;5;124m\"\u001b[39m] \u001b[38;5;241m=\u001b[39m auto_complex\n\u001b[0;32m-> 1855\u001b[0m store \u001b[38;5;241m=\u001b[39m \u001b[43mstore_open\u001b[49m\u001b[43m(\u001b[49m\u001b[43mtarget\u001b[49m\u001b[43m,\u001b[49m\u001b[43m \u001b[49m\u001b[43mmode\u001b[49m\u001b[43m,\u001b[49m\u001b[43m \u001b[49m\u001b[38;5;28;43mformat\u001b[39;49m\u001b[43m,\u001b[49m\u001b[43m \u001b[49m\u001b[43mgroup\u001b[49m\u001b[43m,\u001b[49m\u001b[43m \u001b[49m\u001b[38;5;241;43m*\u001b[39;49m\u001b[38;5;241;43m*\u001b[39;49m\u001b[43mkwargs\u001b[49m\u001b[43m)\u001b[49m\n\u001b[1;32m   1857\u001b[0m \u001b[38;5;28;01mif\u001b[39;00m unlimited_dims \u001b[38;5;129;01mis\u001b[39;00m \u001b[38;5;28;01mNone\u001b[39;00m:\n\u001b[1;32m   1858\u001b[0m     unlimited_dims \u001b[38;5;241m=\u001b[39m dataset\u001b[38;5;241m.\u001b[39mencoding\u001b[38;5;241m.\u001b[39mget(\u001b[38;5;124m\"\u001b[39m\u001b[38;5;124munlimited_dims\u001b[39m\u001b[38;5;124m\"\u001b[39m, \u001b[38;5;28;01mNone\u001b[39;00m)\n",
      "File \u001b[0;32m~/5550_final_project/.venv/lib/python3.12/site-packages/xarray/backends/netCDF4_.py:453\u001b[0m, in \u001b[0;36mNetCDF4DataStore.open\u001b[0;34m(cls, filename, mode, format, group, clobber, diskless, persist, auto_complex, lock, lock_maker, autoclose)\u001b[0m\n\u001b[1;32m    449\u001b[0m     kwargs[\u001b[38;5;124m\"\u001b[39m\u001b[38;5;124mauto_complex\u001b[39m\u001b[38;5;124m\"\u001b[39m] \u001b[38;5;241m=\u001b[39m auto_complex\n\u001b[1;32m    450\u001b[0m manager \u001b[38;5;241m=\u001b[39m CachingFileManager(\n\u001b[1;32m    451\u001b[0m     netCDF4\u001b[38;5;241m.\u001b[39mDataset, filename, mode\u001b[38;5;241m=\u001b[39mmode, kwargs\u001b[38;5;241m=\u001b[39mkwargs\n\u001b[1;32m    452\u001b[0m )\n\u001b[0;32m--> 453\u001b[0m \u001b[38;5;28;01mreturn\u001b[39;00m \u001b[38;5;28;43mcls\u001b[39;49m\u001b[43m(\u001b[49m\u001b[43mmanager\u001b[49m\u001b[43m,\u001b[49m\u001b[43m \u001b[49m\u001b[43mgroup\u001b[49m\u001b[38;5;241;43m=\u001b[39;49m\u001b[43mgroup\u001b[49m\u001b[43m,\u001b[49m\u001b[43m \u001b[49m\u001b[43mmode\u001b[49m\u001b[38;5;241;43m=\u001b[39;49m\u001b[43mmode\u001b[49m\u001b[43m,\u001b[49m\u001b[43m \u001b[49m\u001b[43mlock\u001b[49m\u001b[38;5;241;43m=\u001b[39;49m\u001b[43mlock\u001b[49m\u001b[43m,\u001b[49m\u001b[43m \u001b[49m\u001b[43mautoclose\u001b[49m\u001b[38;5;241;43m=\u001b[39;49m\u001b[43mautoclose\u001b[49m\u001b[43m)\u001b[49m\n",
      "File \u001b[0;32m~/5550_final_project/.venv/lib/python3.12/site-packages/xarray/backends/netCDF4_.py:394\u001b[0m, in \u001b[0;36mNetCDF4DataStore.__init__\u001b[0;34m(self, manager, group, mode, lock, autoclose)\u001b[0m\n\u001b[1;32m    392\u001b[0m \u001b[38;5;28mself\u001b[39m\u001b[38;5;241m.\u001b[39m_group \u001b[38;5;241m=\u001b[39m group\n\u001b[1;32m    393\u001b[0m \u001b[38;5;28mself\u001b[39m\u001b[38;5;241m.\u001b[39m_mode \u001b[38;5;241m=\u001b[39m mode\n\u001b[0;32m--> 394\u001b[0m \u001b[38;5;28mself\u001b[39m\u001b[38;5;241m.\u001b[39mformat \u001b[38;5;241m=\u001b[39m \u001b[38;5;28;43mself\u001b[39;49m\u001b[38;5;241;43m.\u001b[39;49m\u001b[43mds\u001b[49m\u001b[38;5;241m.\u001b[39mdata_model\n\u001b[1;32m    395\u001b[0m \u001b[38;5;28mself\u001b[39m\u001b[38;5;241m.\u001b[39m_filename \u001b[38;5;241m=\u001b[39m \u001b[38;5;28mself\u001b[39m\u001b[38;5;241m.\u001b[39mds\u001b[38;5;241m.\u001b[39mfilepath()\n\u001b[1;32m    396\u001b[0m \u001b[38;5;28mself\u001b[39m\u001b[38;5;241m.\u001b[39mis_remote \u001b[38;5;241m=\u001b[39m is_remote_uri(\u001b[38;5;28mself\u001b[39m\u001b[38;5;241m.\u001b[39m_filename)\n",
      "File \u001b[0;32m~/5550_final_project/.venv/lib/python3.12/site-packages/xarray/backends/netCDF4_.py:462\u001b[0m, in \u001b[0;36mNetCDF4DataStore.ds\u001b[0;34m(self)\u001b[0m\n\u001b[1;32m    460\u001b[0m \u001b[38;5;129m@property\u001b[39m\n\u001b[1;32m    461\u001b[0m \u001b[38;5;28;01mdef\u001b[39;00m \u001b[38;5;21mds\u001b[39m(\u001b[38;5;28mself\u001b[39m):\n\u001b[0;32m--> 462\u001b[0m     \u001b[38;5;28;01mreturn\u001b[39;00m \u001b[38;5;28;43mself\u001b[39;49m\u001b[38;5;241;43m.\u001b[39;49m\u001b[43m_acquire\u001b[49m\u001b[43m(\u001b[49m\u001b[43m)\u001b[49m\n",
      "File \u001b[0;32m~/5550_final_project/.venv/lib/python3.12/site-packages/xarray/backends/netCDF4_.py:456\u001b[0m, in \u001b[0;36mNetCDF4DataStore._acquire\u001b[0;34m(self, needs_lock)\u001b[0m\n\u001b[1;32m    455\u001b[0m \u001b[38;5;28;01mdef\u001b[39;00m \u001b[38;5;21m_acquire\u001b[39m(\u001b[38;5;28mself\u001b[39m, needs_lock\u001b[38;5;241m=\u001b[39m\u001b[38;5;28;01mTrue\u001b[39;00m):\n\u001b[0;32m--> 456\u001b[0m \u001b[43m    \u001b[49m\u001b[38;5;28;43;01mwith\u001b[39;49;00m\u001b[43m \u001b[49m\u001b[38;5;28;43mself\u001b[39;49m\u001b[38;5;241;43m.\u001b[39;49m\u001b[43m_manager\u001b[49m\u001b[38;5;241;43m.\u001b[39;49m\u001b[43macquire_context\u001b[49m\u001b[43m(\u001b[49m\u001b[43mneeds_lock\u001b[49m\u001b[43m)\u001b[49m\u001b[43m \u001b[49m\u001b[38;5;28;43;01mas\u001b[39;49;00m\u001b[43m \u001b[49m\u001b[43mroot\u001b[49m\u001b[43m:\u001b[49m\n\u001b[1;32m    457\u001b[0m \u001b[43m        \u001b[49m\u001b[43mds\u001b[49m\u001b[43m \u001b[49m\u001b[38;5;241;43m=\u001b[39;49m\u001b[43m \u001b[49m\u001b[43m_nc4_require_group\u001b[49m\u001b[43m(\u001b[49m\u001b[43mroot\u001b[49m\u001b[43m,\u001b[49m\u001b[43m \u001b[49m\u001b[38;5;28;43mself\u001b[39;49m\u001b[38;5;241;43m.\u001b[39;49m\u001b[43m_group\u001b[49m\u001b[43m,\u001b[49m\u001b[43m \u001b[49m\u001b[38;5;28;43mself\u001b[39;49m\u001b[38;5;241;43m.\u001b[39;49m\u001b[43m_mode\u001b[49m\u001b[43m)\u001b[49m\n\u001b[1;32m    458\u001b[0m     \u001b[38;5;28;01mreturn\u001b[39;00m ds\n",
      "File \u001b[0;32m/usr/lib/python3.12/contextlib.py:137\u001b[0m, in \u001b[0;36m_GeneratorContextManager.__enter__\u001b[0;34m(self)\u001b[0m\n\u001b[1;32m    135\u001b[0m \u001b[38;5;28;01mdel\u001b[39;00m \u001b[38;5;28mself\u001b[39m\u001b[38;5;241m.\u001b[39margs, \u001b[38;5;28mself\u001b[39m\u001b[38;5;241m.\u001b[39mkwds, \u001b[38;5;28mself\u001b[39m\u001b[38;5;241m.\u001b[39mfunc\n\u001b[1;32m    136\u001b[0m \u001b[38;5;28;01mtry\u001b[39;00m:\n\u001b[0;32m--> 137\u001b[0m     \u001b[38;5;28;01mreturn\u001b[39;00m \u001b[38;5;28;43mnext\u001b[39;49m\u001b[43m(\u001b[49m\u001b[38;5;28;43mself\u001b[39;49m\u001b[38;5;241;43m.\u001b[39;49m\u001b[43mgen\u001b[49m\u001b[43m)\u001b[49m\n\u001b[1;32m    138\u001b[0m \u001b[38;5;28;01mexcept\u001b[39;00m \u001b[38;5;167;01mStopIteration\u001b[39;00m:\n\u001b[1;32m    139\u001b[0m     \u001b[38;5;28;01mraise\u001b[39;00m \u001b[38;5;167;01mRuntimeError\u001b[39;00m(\u001b[38;5;124m\"\u001b[39m\u001b[38;5;124mgenerator didn\u001b[39m\u001b[38;5;124m'\u001b[39m\u001b[38;5;124mt yield\u001b[39m\u001b[38;5;124m\"\u001b[39m) \u001b[38;5;28;01mfrom\u001b[39;00m \u001b[38;5;28;01mNone\u001b[39;00m\n",
      "File \u001b[0;32m~/5550_final_project/.venv/lib/python3.12/site-packages/xarray/backends/file_manager.py:199\u001b[0m, in \u001b[0;36mCachingFileManager.acquire_context\u001b[0;34m(self, needs_lock)\u001b[0m\n\u001b[1;32m    196\u001b[0m \u001b[38;5;129m@contextlib\u001b[39m\u001b[38;5;241m.\u001b[39mcontextmanager\n\u001b[1;32m    197\u001b[0m \u001b[38;5;28;01mdef\u001b[39;00m \u001b[38;5;21macquire_context\u001b[39m(\u001b[38;5;28mself\u001b[39m, needs_lock\u001b[38;5;241m=\u001b[39m\u001b[38;5;28;01mTrue\u001b[39;00m):\n\u001b[1;32m    198\u001b[0m \u001b[38;5;250m    \u001b[39m\u001b[38;5;124;03m\"\"\"Context manager for acquiring a file.\"\"\"\u001b[39;00m\n\u001b[0;32m--> 199\u001b[0m     file, cached \u001b[38;5;241m=\u001b[39m \u001b[38;5;28;43mself\u001b[39;49m\u001b[38;5;241;43m.\u001b[39;49m\u001b[43m_acquire_with_cache_info\u001b[49m\u001b[43m(\u001b[49m\u001b[43mneeds_lock\u001b[49m\u001b[43m)\u001b[49m\n\u001b[1;32m    200\u001b[0m     \u001b[38;5;28;01mtry\u001b[39;00m:\n\u001b[1;32m    201\u001b[0m         \u001b[38;5;28;01myield\u001b[39;00m file\n",
      "File \u001b[0;32m~/5550_final_project/.venv/lib/python3.12/site-packages/xarray/backends/file_manager.py:217\u001b[0m, in \u001b[0;36mCachingFileManager._acquire_with_cache_info\u001b[0;34m(self, needs_lock)\u001b[0m\n\u001b[1;32m    215\u001b[0m     kwargs \u001b[38;5;241m=\u001b[39m kwargs\u001b[38;5;241m.\u001b[39mcopy()\n\u001b[1;32m    216\u001b[0m     kwargs[\u001b[38;5;124m\"\u001b[39m\u001b[38;5;124mmode\u001b[39m\u001b[38;5;124m\"\u001b[39m] \u001b[38;5;241m=\u001b[39m \u001b[38;5;28mself\u001b[39m\u001b[38;5;241m.\u001b[39m_mode\n\u001b[0;32m--> 217\u001b[0m file \u001b[38;5;241m=\u001b[39m \u001b[38;5;28;43mself\u001b[39;49m\u001b[38;5;241;43m.\u001b[39;49m\u001b[43m_opener\u001b[49m\u001b[43m(\u001b[49m\u001b[38;5;241;43m*\u001b[39;49m\u001b[38;5;28;43mself\u001b[39;49m\u001b[38;5;241;43m.\u001b[39;49m\u001b[43m_args\u001b[49m\u001b[43m,\u001b[49m\u001b[43m \u001b[49m\u001b[38;5;241;43m*\u001b[39;49m\u001b[38;5;241;43m*\u001b[39;49m\u001b[43mkwargs\u001b[49m\u001b[43m)\u001b[49m\n\u001b[1;32m    218\u001b[0m \u001b[38;5;28;01mif\u001b[39;00m \u001b[38;5;28mself\u001b[39m\u001b[38;5;241m.\u001b[39m_mode \u001b[38;5;241m==\u001b[39m \u001b[38;5;124m\"\u001b[39m\u001b[38;5;124mw\u001b[39m\u001b[38;5;124m\"\u001b[39m:\n\u001b[1;32m    219\u001b[0m     \u001b[38;5;66;03m# ensure file doesn't get overridden when opened again\u001b[39;00m\n\u001b[1;32m    220\u001b[0m     \u001b[38;5;28mself\u001b[39m\u001b[38;5;241m.\u001b[39m_mode \u001b[38;5;241m=\u001b[39m \u001b[38;5;124m\"\u001b[39m\u001b[38;5;124ma\u001b[39m\u001b[38;5;124m\"\u001b[39m\n",
      "File \u001b[0;32msrc/netCDF4/_netCDF4.pyx:2521\u001b[0m, in \u001b[0;36mnetCDF4._netCDF4.Dataset.__init__\u001b[0;34m()\u001b[0m\n",
      "File \u001b[0;32msrc/netCDF4/_netCDF4.pyx:2158\u001b[0m, in \u001b[0;36mnetCDF4._netCDF4._ensure_nc_success\u001b[0;34m()\u001b[0m\n",
      "\u001b[0;31mPermissionError\u001b[0m: [Errno 13] Permission denied: '/mnt/d/Reduced_data/era5_2024_month_01_north_america.nc'"
     ]
    }
   ],
   "source": [
    "import xarray as xr\n",
    "import os\n",
    "\n",
    "# 定义北美区域的经纬度范围\n",
    "lat_min, lat_max = 10, 85  # 纬度范围\n",
    "lon_min, lon_max = -170, -50  # 经度范围\n",
    "\n",
    "# 数据文件路径\n",
    "data_directory = \"/mnt/d/Parsing_data\"\n",
    "output_directory = \"/mnt/d/Reduced_data\"\n",
    "months = range(1, 12)  # 1 到 11 月\n",
    "file_template = f\"{data_directory}/era5_2024_month_{{month:02d}}.nc\"\n",
    "\n",
    "# 循环处理每个月的数据\n",
    "for month in months:\n",
    "    file_path = file_template.format(month=month)\n",
    "    if not os.path.exists(file_path):\n",
    "        print(f\"File not found: {file_path}\")\n",
    "        continue\n",
    "\n",
    "    # 打开数据集\n",
    "    ds = xr.open_dataset(file_path)\n",
    "\n",
    "    # 检查并转换经度范围\n",
    "    print(f\"Original longitude range: {ds.longitude.min().values} to {ds.longitude.max().values}\")\n",
    "    if ds.longitude.max() > 180:  # 如果经度是 [0, 360]\n",
    "        ds = ds.assign_coords(longitude=(((ds.longitude + 180) % 360) - 180))\n",
    "        print(f\"Converted longitude range: {ds.longitude.min().values} to {ds.longitude.max().values}\")\n",
    "\n",
    "    # 四舍五入经度值以避免浮点数误差\n",
    "    ds = ds.assign_coords(longitude=ds.longitude.round(1))\n",
    "\n",
    "    # 提取北美区域数据\n",
    "    try:\n",
    "        subset_ds = ds.sel(\n",
    "            latitude=slice(lat_max, lat_min),\n",
    "            longitude=slice(lon_min, lon_max)\n",
    "        )\n",
    "    except KeyError as e:\n",
    "        print(f\"KeyError while slicing longitude: {e}\")\n",
    "        continue\n",
    "\n",
    "    # 保存提取后的数据\n",
    "    output_path = f\"{output_directory}/era5_2024_month_{month:02d}_north_america.nc\"\n",
    "    subset_ds.to_netcdf(output_path)\n",
    "    print(f\"Saved North America subset for month {month} to {output_path}\")\n"
   ]
  },
  {
   "cell_type": "code",
   "execution_count": 13,
   "metadata": {},
   "outputs": [
    {
     "name": "stdout",
     "output_type": "stream",
     "text": [
      "Moved directory /home/siruwww/5550_final_project/Parsing_data to /mnt/d/Parsing_data\n"
     ]
    }
   ],
   "source": [
    "# import shutil\n",
    "\n",
    "# # 当前目录\n",
    "# source_dir = \"/home/siruwww/5550_final_project/Parsing_data\"\n",
    "\n",
    "# # 目标目录\n",
    "# target_dir = \"/mnt/d/Parsing_data\"\n",
    "\n",
    "# # 迁移整个文件夹\n",
    "# shutil.move(source_dir, target_dir)\n",
    "# print(f\"Moved directory {source_dir} to {target_dir}\")\n"
   ]
  },
  {
   "cell_type": "code",
   "execution_count": 3,
   "metadata": {},
   "outputs": [
    {
     "name": "stdout",
     "output_type": "stream",
     "text": [
      "File /mnt/d/Parsing_data/era5_2024_month_01.nc is OK: Time range ('2024-01-01T00:00:00.000000000', '2024-01-31T18:00:00.000000000'), Variables ['tp', 'e', 'ro', 't2m', 'u10', 'v10', 'sp'], Size 3218.32 MB\n",
      "File /mnt/d/Parsing_data/era5_2024_month_02.nc is OK: Time range ('2024-02-01T00:00:00.000000000', '2024-02-29T18:00:00.000000000'), Variables ['tp', 'e', 'ro', 't2m', 'u10', 'v10', 'sp'], Size 3011.77 MB\n",
      "File /mnt/d/Parsing_data/era5_2024_month_03.nc is OK: Time range ('2024-03-01T00:00:00.000000000', '2024-03-31T18:00:00.000000000'), Variables ['tp', 'e', 'ro', 't2m', 'u10', 'v10', 'sp'], Size 3220.62 MB\n",
      "File /mnt/d/Parsing_data/era5_2024_month_04.nc is OK: Time range ('2024-04-01T00:00:00.000000000', '2024-04-30T18:00:00.000000000'), Variables ['tp', 'e', 'ro', 't2m', 'u10', 'v10', 'sp'], Size 3127.70 MB\n",
      "File /mnt/d/Parsing_data/era5_2024_month_05.nc is OK: Time range ('2024-05-01T00:00:00.000000000', '2024-05-31T18:00:00.000000000'), Variables ['tp', 'e', 'ro', 't2m', 'u10', 'v10', 'sp'], Size 3224.55 MB\n",
      "File /mnt/d/Parsing_data/era5_2024_month_06.nc is OK: Time range ('2024-06-01T00:00:00.000000000', '2024-06-30T18:00:00.000000000'), Variables ['tp', 'e', 'ro', 't2m', 'u10', 'v10', 'sp'], Size 3161.99 MB\n",
      "File /mnt/d/Parsing_data/era5_2024_month_07.nc is OK: Time range ('2024-07-01T00:00:00.000000000', '2024-07-31T18:00:00.000000000'), Variables ['tp', 'e', 'ro', 't2m', 'u10', 'v10', 'sp'], Size 3248.89 MB\n",
      "File /mnt/d/Parsing_data/era5_2024_month_08.nc is OK: Time range ('2024-08-01T00:00:00.000000000', '2024-08-31T18:00:00.000000000'), Variables ['tp', 'e', 'ro', 't2m', 'u10', 'v10', 'sp'], Size 3247.60 MB\n",
      "File /mnt/d/Parsing_data/era5_2024_month_09.nc is OK: Time range ('2024-09-01T00:00:00.000000000', '2024-09-30T18:00:00.000000000'), Variables ['tp', 'e', 'ro', 't2m', 'u10', 'v10', 'sp'], Size 3127.81 MB\n",
      "File /mnt/d/Parsing_data/era5_2024_month_10.nc is OK: Time range ('2024-10-01T00:00:00.000000000', '2024-10-31T18:00:00.000000000'), Variables ['tp', 'e', 'ro', 't2m', 'u10', 'v10', 'sp'], Size 3217.68 MB\n",
      "File /mnt/d/Parsing_data/era5_2024_month_11.nc is OK: Time range ('2024-11-01T00:00:00.000000000', '2024-11-15T18:00:00.000000000'), Variables ['tp', 'e', 'ro', 't2m', 'u10', 'v10', 'sp'], Size 1557.01 MB\n",
      "\n",
      "Summary of checks:\n",
      "Month: 1, Status: OK, Time Range: ('2024-01-01T00:00:00.000000000', '2024-01-31T18:00:00.000000000'), Variables: ['tp', 'e', 'ro', 't2m', 'u10', 'v10', 'sp'], Size: 3218.3177223205566 MB\n",
      "Month: 2, Status: OK, Time Range: ('2024-02-01T00:00:00.000000000', '2024-02-29T18:00:00.000000000'), Variables: ['tp', 'e', 'ro', 't2m', 'u10', 'v10', 'sp'], Size: 3011.7662687301636 MB\n",
      "Month: 3, Status: OK, Time Range: ('2024-03-01T00:00:00.000000000', '2024-03-31T18:00:00.000000000'), Variables: ['tp', 'e', 'ro', 't2m', 'u10', 'v10', 'sp'], Size: 3220.6229305267334 MB\n",
      "Month: 4, Status: OK, Time Range: ('2024-04-01T00:00:00.000000000', '2024-04-30T18:00:00.000000000'), Variables: ['tp', 'e', 'ro', 't2m', 'u10', 'v10', 'sp'], Size: 3127.7028493881226 MB\n",
      "Month: 5, Status: OK, Time Range: ('2024-05-01T00:00:00.000000000', '2024-05-31T18:00:00.000000000'), Variables: ['tp', 'e', 'ro', 't2m', 'u10', 'v10', 'sp'], Size: 3224.553454399109 MB\n",
      "Month: 6, Status: OK, Time Range: ('2024-06-01T00:00:00.000000000', '2024-06-30T18:00:00.000000000'), Variables: ['tp', 'e', 'ro', 't2m', 'u10', 'v10', 'sp'], Size: 3161.9859590530396 MB\n",
      "Month: 7, Status: OK, Time Range: ('2024-07-01T00:00:00.000000000', '2024-07-31T18:00:00.000000000'), Variables: ['tp', 'e', 'ro', 't2m', 'u10', 'v10', 'sp'], Size: 3248.8918714523315 MB\n",
      "Month: 8, Status: OK, Time Range: ('2024-08-01T00:00:00.000000000', '2024-08-31T18:00:00.000000000'), Variables: ['tp', 'e', 'ro', 't2m', 'u10', 'v10', 'sp'], Size: 3247.598991394043 MB\n",
      "Month: 9, Status: OK, Time Range: ('2024-09-01T00:00:00.000000000', '2024-09-30T18:00:00.000000000'), Variables: ['tp', 'e', 'ro', 't2m', 'u10', 'v10', 'sp'], Size: 3127.8091287612915 MB\n",
      "Month: 10, Status: OK, Time Range: ('2024-10-01T00:00:00.000000000', '2024-10-31T18:00:00.000000000'), Variables: ['tp', 'e', 'ro', 't2m', 'u10', 'v10', 'sp'], Size: 3217.6833839416504 MB\n",
      "Month: 11, Status: OK, Time Range: ('2024-11-01T00:00:00.000000000', '2024-11-15T18:00:00.000000000'), Variables: ['tp', 'e', 'ro', 't2m', 'u10', 'v10', 'sp'], Size: 1557.0113515853882 MB\n"
     ]
    }
   ],
   "source": [
    "import xarray as xr\n",
    "import os\n",
    "\n",
    "# Define the data directory and file template\n",
    "data_directory = \"/mnt/d/Parsing_data\"  # Replace with the path where your data is stored\n",
    "file_template = \"era5_2024_month_{month:02d}.nc\"  # File naming template\n",
    "months = range(1, 12)  # Months from January to November 2024\n",
    "\n",
    "# List to store the check results\n",
    "file_check_results = []\n",
    "\n",
    "# Check each month's data\n",
    "for month in months:\n",
    "    file_path = os.path.join(data_directory, file_template.format(month=month))\n",
    "    if not os.path.exists(file_path):\n",
    "        print(f\"File missing: {file_path}\")\n",
    "        file_check_results.append((month, \"Missing\", None, None, None))\n",
    "        continue\n",
    "\n",
    "    try:\n",
    "        # Open the dataset\n",
    "        dataset = xr.open_dataset(file_path)\n",
    "\n",
    "        # Get basic information\n",
    "        time_range = (str(dataset.valid_time[0].values), str(dataset.valid_time[-1].values))\n",
    "        variables = list(dataset.data_vars.keys())\n",
    "        size = os.path.getsize(file_path) / (1024 * 1024)  # File size in MB\n",
    "\n",
    "        print(f\"File {file_path} is OK: Time range {time_range}, Variables {variables}, Size {size:.2f} MB\")\n",
    "        file_check_results.append((month, \"OK\", time_range, variables, size))\n",
    "\n",
    "    except Exception as e:\n",
    "        print(f\"Unable to read file {file_path}: {e}\")\n",
    "        file_check_results.append((month, \"Error\", None, None, None))\n",
    "\n",
    "# Print summary of the checks\n",
    "print(\"\\nSummary of checks:\")\n",
    "for result in file_check_results:\n",
    "    print(f\"Month: {result[0]}, Status: {result[1]}, Time Range: {result[2]}, Variables: {result[3]}, Size: {result[4]} MB\")\n"
   ]
  }
 ],
 "metadata": {
  "kernelspec": {
   "display_name": ".venv",
   "language": "python",
   "name": "python3"
  },
  "language_info": {
   "codemirror_mode": {
    "name": "ipython",
    "version": 3
   },
   "file_extension": ".py",
   "mimetype": "text/x-python",
   "name": "python",
   "nbconvert_exporter": "python",
   "pygments_lexer": "ipython3",
   "version": "3.12.3"
  }
 },
 "nbformat": 4,
 "nbformat_minor": 2
}
