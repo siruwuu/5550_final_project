{
 "cells": [
  {
   "cell_type": "code",
   "execution_count": null,
   "metadata": {},
   "outputs": [],
   "source": []
  },
  {
   "cell_type": "code",
   "execution_count": 2,
   "metadata": {},
   "outputs": [],
   "source": [
    "import cdsapi\n",
    "import xarray as xr\n",
    "import pandas as pd\n",
    "import os\n",
    "import netCDF4\n",
    "import h5netcdf\n"
   ]
  },
  {
   "cell_type": "code",
   "execution_count": 5,
   "metadata": {},
   "outputs": [
    {
     "name": "stderr",
     "output_type": "stream",
     "text": [
      "2024-11-27 15:32:46,940 WARNING [2024-11-27T00:00:00] System is back on service under testing conditions. Please follow updates [here](https://forum.ecmwf.int/t/cds-ads-and-ewds-down-until-further-notice/8015) and status [here](https://status.ecmwf.int/)\n",
      "2024-11-27 15:32:46,942 INFO [2024-09-28T00:00:00] **Welcome to the New Climate Data Store (CDS)!** This new system is in its early days of full operations and still undergoing enhancements and fine tuning. Some disruptions are to be expected. Your \n",
      "[feedback](https://jira.ecmwf.int/plugins/servlet/desk/portal/1/create/202) is key to improve the user experience on the new CDS for the benefit of everyone. Thank you.\n",
      "2024-11-27 15:32:46,944 INFO [2024-09-26T00:00:00] Watch our [Forum](https://forum.ecmwf.int/) for Announcements, news and other discussed topics.\n",
      "2024-11-27 15:32:46,945 INFO [2024-09-16T00:00:00] Remember that you need to have an ECMWF account to use the new CDS. **Your old CDS credentials will not work in new CDS!**\n",
      "2024-11-27 15:32:46,945 WARNING [2024-06-16T00:00:00] CDS API syntax is changed and some keys or parameter names may have also changed. To avoid requests failing, please use the \"Show API request code\" tool on the dataset Download Form to check you are using the correct syntax for your API request.\n"
     ]
    },
    {
     "name": "stdout",
     "output_type": "stream",
     "text": [
      "Downloading data for month 01...\n"
     ]
    },
    {
     "name": "stderr",
     "output_type": "stream",
     "text": [
      "2024-11-27 15:32:47,297 INFO Request ID is 438c47ae-39d6-43c4-89bf-07e54b94ddef\n",
      "2024-11-27 15:32:47,463 INFO status has been updated to accepted\n",
      "2024-11-27 15:32:50,308 INFO status has been updated to running\n",
      "2024-11-27 15:32:52,244 INFO status has been updated to successful\n",
      "                                                                                      \r"
     ]
    },
    {
     "name": "stdout",
     "output_type": "stream",
     "text": [
      "Data for month 01 saved to CA_Month_data/era5_2024_month_01_CA.nc.\n",
      "Downloading data for month 02...\n"
     ]
    },
    {
     "name": "stderr",
     "output_type": "stream",
     "text": [
      "2024-11-27 15:32:54,987 INFO Request ID is 3138ead6-adf4-4fde-b83f-ad1d9644e449\n",
      "2024-11-27 15:32:55,252 INFO status has been updated to accepted\n",
      "2024-11-27 15:32:55,948 INFO status has been updated to running\n",
      "2024-11-27 15:33:00,049 INFO status has been updated to successful\n",
      "                                                                                       \r"
     ]
    },
    {
     "name": "stdout",
     "output_type": "stream",
     "text": [
      "Data for month 02 saved to CA_Month_data/era5_2024_month_02_CA.nc.\n",
      "Downloading data for month 03...\n"
     ]
    },
    {
     "name": "stderr",
     "output_type": "stream",
     "text": [
      "2024-11-27 15:33:02,024 INFO Request ID is 84016071-83a4-4d1f-8e3b-5e410a5b516d\n",
      "2024-11-27 15:33:02,176 INFO status has been updated to accepted\n",
      "2024-11-27 15:33:05,100 INFO status has been updated to running\n",
      "2024-11-27 15:33:07,004 INFO status has been updated to successful\n",
      "                                                                                      \r"
     ]
    },
    {
     "name": "stdout",
     "output_type": "stream",
     "text": [
      "Data for month 03 saved to CA_Month_data/era5_2024_month_03_CA.nc.\n",
      "Downloading data for month 04...\n"
     ]
    },
    {
     "name": "stderr",
     "output_type": "stream",
     "text": [
      "2024-11-27 15:33:09,444 INFO Request ID is ba73136c-5a4b-4a7c-9ef2-f8eab95c993d\n",
      "2024-11-27 15:33:09,611 INFO status has been updated to accepted\n",
      "2024-11-27 15:33:12,109 INFO status has been updated to running\n",
      "2024-11-27 15:33:14,771 INFO status has been updated to successful\n",
      "                                                                                       \r"
     ]
    },
    {
     "name": "stdout",
     "output_type": "stream",
     "text": [
      "Data for month 04 saved to CA_Month_data/era5_2024_month_04_CA.nc.\n",
      "Downloading data for month 05...\n"
     ]
    },
    {
     "name": "stderr",
     "output_type": "stream",
     "text": [
      "2024-11-27 15:33:16,709 INFO Request ID is 86c4d125-6a18-40ac-a215-0802b7fba6fc\n",
      "2024-11-27 15:33:16,918 INFO status has been updated to accepted\n",
      "2024-11-27 15:33:21,888 INFO status has been updated to running\n",
      "2024-11-27 15:33:25,784 INFO status has been updated to successful\n",
      "                                                                                     \r"
     ]
    },
    {
     "name": "stdout",
     "output_type": "stream",
     "text": [
      "Data for month 05 saved to CA_Month_data/era5_2024_month_05_CA.nc.\n",
      "Downloading data for month 06...\n"
     ]
    },
    {
     "name": "stderr",
     "output_type": "stream",
     "text": [
      "2024-11-27 15:33:27,927 INFO Request ID is b1cd701a-950d-4fdf-8770-8aa7071ae426\n",
      "2024-11-27 15:33:28,178 INFO status has been updated to accepted\n",
      "2024-11-27 15:33:29,530 INFO status has been updated to running\n",
      "2024-11-27 15:33:31,379 INFO status has been updated to successful\n",
      "                                                                                      \r"
     ]
    },
    {
     "name": "stdout",
     "output_type": "stream",
     "text": [
      "Data for month 06 saved to CA_Month_data/era5_2024_month_06_CA.nc.\n",
      "Downloading data for month 07...\n"
     ]
    },
    {
     "name": "stderr",
     "output_type": "stream",
     "text": [
      "2024-11-27 15:33:33,715 INFO Request ID is 63ebbc7f-0a9d-486c-b862-53044c69aad7\n",
      "2024-11-27 15:33:33,966 INFO status has been updated to accepted\n",
      "2024-11-27 15:33:36,649 INFO status has been updated to running\n",
      "2024-11-27 15:33:39,148 INFO status has been updated to successful\n",
      "                                                                                      \r"
     ]
    },
    {
     "name": "stdout",
     "output_type": "stream",
     "text": [
      "Data for month 07 saved to CA_Month_data/era5_2024_month_07_CA.nc.\n",
      "Downloading data for month 08...\n"
     ]
    },
    {
     "name": "stderr",
     "output_type": "stream",
     "text": [
      "2024-11-27 15:33:41,246 INFO Request ID is dc2f3132-d02a-4b64-88bf-d86bba8ee0d2\n",
      "2024-11-27 15:33:41,485 INFO status has been updated to accepted\n",
      "2024-11-27 15:33:42,794 INFO status has been updated to running\n",
      "2024-11-27 15:33:46,610 INFO status has been updated to successful\n",
      "                                                                                      \r"
     ]
    },
    {
     "name": "stdout",
     "output_type": "stream",
     "text": [
      "Data for month 08 saved to CA_Month_data/era5_2024_month_08_CA.nc.\n",
      "Downloading data for month 09...\n"
     ]
    },
    {
     "name": "stderr",
     "output_type": "stream",
     "text": [
      "2024-11-27 15:33:49,272 INFO Request ID is d1b38c06-0eed-4201-b8c5-48c88863bd2e\n",
      "2024-11-27 15:33:49,411 INFO status has been updated to accepted\n",
      "2024-11-27 15:33:51,905 INFO status has been updated to successful\n",
      "                                                                                      \r"
     ]
    },
    {
     "name": "stdout",
     "output_type": "stream",
     "text": [
      "Data for month 09 saved to CA_Month_data/era5_2024_month_09_CA.nc.\n",
      "Downloading data for month 10...\n"
     ]
    },
    {
     "name": "stderr",
     "output_type": "stream",
     "text": [
      "2024-11-27 15:33:54,338 INFO Request ID is d3250bf8-8243-4b5c-9533-3e0d8b182c35\n",
      "2024-11-27 15:33:54,549 INFO status has been updated to accepted\n",
      "2024-11-27 15:33:57,032 INFO status has been updated to successful\n",
      "                                                                                      \r"
     ]
    },
    {
     "name": "stdout",
     "output_type": "stream",
     "text": [
      "Data for month 10 saved to CA_Month_data/era5_2024_month_10_CA.nc.\n",
      "Downloading data for month 11...\n"
     ]
    },
    {
     "name": "stderr",
     "output_type": "stream",
     "text": [
      "2024-11-27 15:33:59,464 INFO Request ID is 7f9f6474-f2f1-4af0-bdac-91892773432d\n",
      "2024-11-27 15:33:59,690 INFO status has been updated to accepted\n",
      "2024-11-27 15:34:00,868 INFO status has been updated to running\n",
      "2024-11-27 15:34:30,566 INFO status has been updated to successful\n",
      "                                                                                      "
     ]
    },
    {
     "name": "stdout",
     "output_type": "stream",
     "text": [
      "Data for month 11 saved to CA_Month_data/era5_2024_month_11_CA.nc.\n"
     ]
    },
    {
     "name": "stderr",
     "output_type": "stream",
     "text": [
      "\r"
     ]
    }
   ],
   "source": [
    "# 创建客户端\n",
    "client = cdsapi.Client()\n",
    "\n",
    "# 数据集名称\n",
    "dataset = \"reanalysis-era5-land\"\n",
    "\n",
    "# 请求的变量\n",
    "variables = [\n",
    "    \"total_precipitation\",          # 降水\n",
    "]\n",
    "\n",
    "# 北美范围\n",
    "north_america_extent = {\n",
    "    \"area\": [42, 235, 32, 246],  # 格式：[北纬, 西经, 南纬, 东经]\n",
    "}\n",
    "\n",
    "# 时间分辨率（12小时）\n",
    "time_intervals = [\n",
    "    \"00:00\", \"12:00\"\n",
    "]\n",
    "\n",
    "# 下载 2024 年 1 到 11 月的数据\n",
    "for month in range(1, 12):\n",
    "    print(f\"Downloading data for month {month:02d}...\")\n",
    "\n",
    "    # 请求参数\n",
    "    request = {\n",
    "        \"format\": \"netcdf\",\n",
    "        \"product_type\": \"reanalysis\",\n",
    "        \"variable\": variables,\n",
    "        \"year\": \"2024\",\n",
    "        \"month\": f\"{month:02d}\",\n",
    "        \"day\": [f\"{day:02d}\" for day in range(1, 32)],  # 天数\n",
    "        \"time\": time_intervals,\n",
    "        **north_america_extent,  # 添加地理范围\n",
    "    }\n",
    "\n",
    "    # 输出文件路径\n",
    "    output_filename = f\"CA_Month_data/era5_2024_month_{month:02d}_CA.nc\"\n",
    "\n",
    "    # 执行抓取\n",
    "    client.retrieve(dataset, request, output_filename)\n",
    "    print(f\"Data for month {month:02d} saved to {output_filename}.\")"
   ]
  },
  {
   "cell_type": "code",
   "execution_count": 6,
   "metadata": {},
   "outputs": [
    {
     "name": "stdout",
     "output_type": "stream",
     "text": [
      "Merging all .nc files into a single dataset...\n",
      "Combined dataset saved to CA_combined_precipitation_2024.nc\n"
     ]
    }
   ],
   "source": [
    "import xarray as xr\n",
    "import os\n",
    "\n",
    "# 定义输入和输出文件夹路径\n",
    "data_directory = \"CA_Month_data\"  # 存放单月 .nc 文件的目录\n",
    "output_nc_path = \"CA_combined_precipitation_2024.nc\"  # 合并后的文件路径\n",
    "\n",
    "# 获取所有 .nc 文件路径\n",
    "file_paths = sorted([os.path.join(data_directory, f) for f in os.listdir(data_directory) if f.endswith(\".nc\")])\n",
    "\n",
    "# 合并所有文件\n",
    "print(\"Merging all .nc files into a single dataset...\")\n",
    "combined_ds = xr.open_mfdataset(file_paths, combine=\"by_coords\")\n",
    "\n",
    "# 保存合并后的文件\n",
    "combined_ds.to_netcdf(output_nc_path)\n",
    "print(f\"Combined dataset saved to {output_nc_path}\")\n"
   ]
  },
  {
   "cell_type": "code",
   "execution_count": 11,
   "metadata": {},
   "outputs": [
    {
     "name": "stdout",
     "output_type": "stream",
     "text": [
      "Checking file: CA_Month_data/era5_2024_month_01_CA.nc\n",
      "Time range: 2024-01-01T00:00:00.000000000 to 2024-01-31T12:00:00.000000000\n",
      "Checking file: CA_Month_data/era5_2024_month_02_CA.nc\n",
      "Time range: 2024-02-01T00:00:00.000000000 to 2024-02-29T12:00:00.000000000\n",
      "Checking file: CA_Month_data/era5_2024_month_03_CA.nc\n",
      "Time range: 2024-03-01T00:00:00.000000000 to 2024-03-31T12:00:00.000000000\n",
      "Checking file: CA_Month_data/era5_2024_month_04_CA.nc\n",
      "Time range: 2024-04-01T00:00:00.000000000 to 2024-04-30T12:00:00.000000000\n",
      "Checking file: CA_Month_data/era5_2024_month_05_CA.nc\n",
      "Time range: 2024-05-01T00:00:00.000000000 to 2024-05-31T12:00:00.000000000\n",
      "Checking file: CA_Month_data/era5_2024_month_06_CA.nc\n",
      "Time range: 2024-06-01T00:00:00.000000000 to 2024-06-30T12:00:00.000000000\n",
      "Checking file: CA_Month_data/era5_2024_month_07_CA.nc\n",
      "Time range: 2024-07-01T00:00:00.000000000 to 2024-07-31T12:00:00.000000000\n",
      "Checking file: CA_Month_data/era5_2024_month_08_CA.nc\n",
      "Time range: 2024-08-01T00:00:00.000000000 to 2024-08-31T12:00:00.000000000\n",
      "Checking file: CA_Month_data/era5_2024_month_09_CA.nc\n",
      "Time range: 2024-09-01T00:00:00.000000000 to 2024-09-30T12:00:00.000000000\n",
      "Checking file: CA_Month_data/era5_2024_month_10_CA.nc\n",
      "Time range: 2024-10-01T00:00:00.000000000 to 2024-10-31T12:00:00.000000000\n",
      "Checking file: CA_Month_data/era5_2024_month_11_CA.nc\n",
      "Time range: 2024-11-01T00:00:00.000000000 to 2024-11-22T12:00:00.000000000\n"
     ]
    }
   ],
   "source": [
    "import xarray as xr\n",
    "import os\n",
    "\n",
    "# 数据目录\n",
    "data_directory = \"CA_Month_data\"\n",
    "\n",
    "# 获取所有 .nc 文件路径\n",
    "file_paths = sorted([os.path.join(data_directory, f) for f in os.listdir(data_directory) if f.endswith(\".nc\")])\n",
    "\n",
    "# 检查每个文件的时间范围\n",
    "for file_path in file_paths:\n",
    "    print(f\"Checking file: {file_path}\")\n",
    "    ds = xr.open_dataset(file_path)\n",
    "    print(f\"Time range: {ds.valid_time.min().values} to {ds.valid_time.max().values}\")\n"
   ]
  },
  {
   "cell_type": "code",
   "execution_count": 12,
   "metadata": {},
   "outputs": [
    {
     "name": "stdout",
     "output_type": "stream",
     "text": [
      "Combined dataset time range: 2024-01-01T00:00:00.000000000 to 2024-11-22T12:00:00.000000000\n"
     ]
    }
   ],
   "source": [
    "# 加载合并后的数据\n",
    "combined_ds = xr.open_dataset(\"CA_combined_precipitation_2024.nc\")\n",
    "\n",
    "# 检查时间范围\n",
    "print(f\"Combined dataset time range: {combined_ds.valid_time.min().values} to {combined_ds.valid_time.max().values}\")\n"
   ]
  },
  {
   "cell_type": "code",
   "execution_count": 9,
   "metadata": {},
   "outputs": [
    {
     "name": "stdout",
     "output_type": "stream",
     "text": [
      "<xarray.Dataset> Size: 29MB\n",
      "Dimensions:     (valid_time: 654, latitude: 101, longitude: 111)\n",
      "Coordinates:\n",
      "    number      int64 8B ...\n",
      "  * valid_time  (valid_time) datetime64[ns] 5kB 2024-01-01 ... 2024-11-22T12:...\n",
      "  * latitude    (latitude) float64 808B 42.0 41.9 41.8 41.7 ... 32.2 32.1 32.0\n",
      "  * longitude   (longitude) float64 888B 235.0 235.1 235.2 ... 245.8 245.9 246.0\n",
      "    expver      (valid_time) <U4 10kB ...\n",
      "Data variables:\n",
      "    tp          (valid_time, latitude, longitude) float32 29MB ...\n",
      "Attributes:\n",
      "    GRIB_centre:             ecmf\n",
      "    GRIB_centreDescription:  European Centre for Medium-Range Weather Forecasts\n",
      "    GRIB_subCentre:          0\n",
      "    Conventions:             CF-1.7\n",
      "    institution:             European Centre for Medium-Range Weather Forecasts\n",
      "    history:                 2024-11-27T20:27 GRIB to CDM+CF via cfgrib-0.9.1...\n"
     ]
    },
    {
     "data": {
      "text/plain": [
       "<matplotlib.collections.QuadMesh at 0x7fde5072f500>"
      ]
     },
     "execution_count": 9,
     "metadata": {},
     "output_type": "execute_result"
    },
    {
     "data": {
      "image/png": "[encoded data removed]",
      "text/plain": [
       "<Figure size 640x480 with 2 Axes>"
      ]
     },
     "metadata": {},
     "output_type": "display_data"
    }
   ],
   "source": [
    "# 加载合并后的文件\n",
    "ds = xr.open_dataset(\"CA_combined_precipitation_2024.nc\")\n",
    "\n",
    "# 检查数据结构\n",
    "print(ds)\n",
    "\n",
    "# 查看降水量的时间均值\n",
    "mean_tp = ds[\"tp\"].mean(dim=\"valid_time\")\n",
    "mean_tp.plot()\n"
   ]
  },
  {
   "cell_type": "code",
   "execution_count": 10,
   "metadata": {},
   "outputs": [
    {
     "name": "stdout",
     "output_type": "stream",
     "text": [
      "Data saved to CA_combined_precipitation_2024.csv\n"
     ]
    }
   ],
   "source": [
    "# 转换为 DataFrame\n",
    "df = ds.to_dataframe().reset_index()\n",
    "\n",
    "# 格式化时间戳\n",
    "df[\"time\"] = df[\"valid_time\"].dt.strftime(\"%Y-%m-%d %H:%M:%S\")\n",
    "\n",
    "# 保存为 CSV 文件\n",
    "df.to_csv(\"CA_combined_precipitation_2024.csv\", index=False)\n",
    "print(\"Data saved to CA_combined_precipitation_2024.csv\")\n"
   ]
  },
  {
   "cell_type": "code",
   "execution_count": 14,
   "metadata": {},
   "outputs": [
    {
     "name": "stdout",
     "output_type": "stream",
     "text": [
      "CSV time range: 2024-01-01 00:00:00 to 2024-11-22 12:00:00\n",
      "Total rows in CSV: 7331994\n"
     ]
    }
   ],
   "source": [
    "import pandas as pd\n",
    "\n",
    "# 加载 CSV 文件\n",
    "df_csv = pd.read_csv(\"CA_combined_precipitation_2024.csv\")\n",
    "\n",
    "# 检查时间范围\n",
    "print(f\"CSV time range: {df_csv['time'].min()} to {df_csv['time'].max()}\")\n",
    "\n",
    "# 检查行数\n",
    "print(f\"Total rows in CSV: {len(df_csv)}\")\n"
   ]
  },
  {
   "cell_type": "code",
   "execution_count": 1,
   "metadata": {},
   "outputs": [
    {
     "name": "stdout",
     "output_type": "stream",
     "text": [
      "Input shape (X): (7219884, 10, 1), Target shape (y): (7219884,)\n"
     ]
    }
   ],
   "source": [
    "import pandas as pd\n",
    "import numpy as np\n",
    "\n",
    "# 加载 CSV 数据\n",
    "csv_path = \"CA_combined_precipitation_2024.csv\"\n",
    "df = pd.read_csv(csv_path)\n",
    "\n",
    "# 填充降水值的缺失值\n",
    "df[\"tp\"] = df[\"tp\"].fillna(0)\n",
    "\n",
    "# 按时间排序\n",
    "df[\"time\"] = pd.to_datetime(df[\"time\"])\n",
    "df = df.sort_values(by=\"time\")\n",
    "\n",
    "# 按经纬度分组，提取时间序列\n",
    "grouped = df.groupby([\"latitude\", \"longitude\"])\n",
    "\n",
    "# 将每个经纬度的降水量数据转换为时间序列\n",
    "seq_length = 10  # 每个序列包含 10 个时间步\n",
    "sequences = []\n",
    "sequence_labels = []\n",
    "for (lat, lon), group in grouped:\n",
    "    tp_values = group[\"tp\"].values\n",
    "    for i in range(len(tp_values) - seq_length):\n",
    "        sequences.append(tp_values[i:i + seq_length])  # 输入序列\n",
    "        sequence_labels.append(tp_values[i + seq_length])  # 预测目标\n",
    "\n",
    "# 转换为 NumPy 数组\n",
    "X = np.array(sequences).reshape(-1, seq_length, 1)  # 输入维度 (seq_length, 1)\n",
    "y = np.array(sequence_labels)\n",
    "\n",
    "print(f\"Input shape (X): {X.shape}, Target shape (y): {y.shape}\")\n"
   ]
  }
 ],
 "metadata": {
  "kernelspec": {
   "display_name": "venv",
   "language": "python",
   "name": "python3"
  },
  "language_info": {
   "codemirror_mode": {
    "name": "ipython",
    "version": 3
   },
   "file_extension": ".py",
   "mimetype": "text/x-python",
   "name": "python",
   "nbconvert_exporter": "python",
   "pygments_lexer": "ipython3",
   "version": "3.12.3"
  }
 },
 "nbformat": 4,
 "nbformat_minor": 2
}
